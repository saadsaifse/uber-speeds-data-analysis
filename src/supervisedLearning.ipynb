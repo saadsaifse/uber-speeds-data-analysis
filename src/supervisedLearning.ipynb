{
 "nbformat": 4,
 "nbformat_minor": 2,
 "metadata": {
  "language_info": {
   "name": "python",
   "codemirror_mode": {
    "name": "ipython",
    "version": 3
   },
   "version": "3.7.6-final"
  },
  "orig_nbformat": 2,
  "file_extension": ".py",
  "mimetype": "text/x-python",
  "name": "python",
  "npconvert_exporter": "python",
  "pygments_lexer": "ipython3",
  "version": 3,
  "kernelspec": {
   "name": "python37664bitfinalcondaaa6f5b882ba44e6b828423e2ad55701d",
   "display_name": "Python 3.7.6 64-bit ('final': conda)"
  }
 },
 "cells": [
  {
   "cell_type": "markdown",
   "metadata": {},
   "source": [
    "**Task**: Convert time series forecasting to a supervised learning problem. This is also called re-framing the time series data. This way we can apply machine learning algorithms to forecast future time series values. "
   ]
  },
  {
   "cell_type": "code",
   "execution_count": 2,
   "metadata": {},
   "outputs": [],
   "source": [
    "import numpy as np\n",
    "import pandas as pd\n",
    "import os"
   ]
  },
  {
   "cell_type": "code",
   "execution_count": 3,
   "metadata": {},
   "outputs": [],
   "source": [
    "dataPath = os.path.join(\"..\", \"data\", \"london2018\")"
   ]
  },
  {
   "cell_type": "code",
   "execution_count": 4,
   "metadata": {},
   "outputs": [],
   "source": [
    "janSpeedsData = pd.read_csv(os.path.join(dataPath, \"movement-speeds-hourly-london-2018-1.csv\"))"
   ]
  },
  {
   "cell_type": "code",
   "execution_count": 5,
   "metadata": {},
   "outputs": [
    {
     "data": {
      "text/html": "<div>\n<style scoped>\n    .dataframe tbody tr th:only-of-type {\n        vertical-align: middle;\n    }\n\n    .dataframe tbody tr th {\n        vertical-align: top;\n    }\n\n    .dataframe thead th {\n        text-align: right;\n    }\n</style>\n<table border=\"1\" class=\"dataframe\">\n  <thead>\n    <tr style=\"text-align: right;\">\n      <th></th>\n      <th>year</th>\n      <th>month</th>\n      <th>day</th>\n      <th>hour</th>\n      <th>utc_timestamp</th>\n      <th>segment_id</th>\n      <th>start_junction_id</th>\n      <th>end_junction_id</th>\n      <th>osm_way_id</th>\n      <th>osm_start_node_id</th>\n      <th>osm_end_node_id</th>\n      <th>speed_mph_mean</th>\n      <th>speed_mph_stddev</th>\n    </tr>\n  </thead>\n  <tbody>\n    <tr>\n      <th>0</th>\n      <td>2018</td>\n      <td>1</td>\n      <td>21</td>\n      <td>11</td>\n      <td>2018-01-21T11:00:00.000Z</td>\n      <td>6f7512340e3274c683e3fb9557182fe63a05be1f</td>\n      <td>c26332985b1cc70e9eb5db3f4e93b4aeaf17364d</td>\n      <td>d5468e2372e25240ff90b4106df30d4afee7dbbc</td>\n      <td>8179128</td>\n      <td>1343922650</td>\n      <td>108500</td>\n      <td>12.297</td>\n      <td>4.405</td>\n    </tr>\n    <tr>\n      <th>1</th>\n      <td>2018</td>\n      <td>1</td>\n      <td>16</td>\n      <td>19</td>\n      <td>2018-01-16T19:00:00.000Z</td>\n      <td>6f7512340e3274c683e3fb9557182fe63a05be1f</td>\n      <td>c26332985b1cc70e9eb5db3f4e93b4aeaf17364d</td>\n      <td>d5468e2372e25240ff90b4106df30d4afee7dbbc</td>\n      <td>8179128</td>\n      <td>1343922650</td>\n      <td>108500</td>\n      <td>11.301</td>\n      <td>4.761</td>\n    </tr>\n    <tr>\n      <th>2</th>\n      <td>2018</td>\n      <td>1</td>\n      <td>19</td>\n      <td>9</td>\n      <td>2018-01-19T09:00:00.000Z</td>\n      <td>6f7512340e3274c683e3fb9557182fe63a05be1f</td>\n      <td>c26332985b1cc70e9eb5db3f4e93b4aeaf17364d</td>\n      <td>d5468e2372e25240ff90b4106df30d4afee7dbbc</td>\n      <td>8179128</td>\n      <td>1343922650</td>\n      <td>108500</td>\n      <td>11.740</td>\n      <td>6.244</td>\n    </tr>\n    <tr>\n      <th>3</th>\n      <td>2018</td>\n      <td>1</td>\n      <td>12</td>\n      <td>20</td>\n      <td>2018-01-12T20:00:00.000Z</td>\n      <td>6f7512340e3274c683e3fb9557182fe63a05be1f</td>\n      <td>c26332985b1cc70e9eb5db3f4e93b4aeaf17364d</td>\n      <td>d5468e2372e25240ff90b4106df30d4afee7dbbc</td>\n      <td>8179128</td>\n      <td>1343922650</td>\n      <td>108500</td>\n      <td>12.948</td>\n      <td>5.423</td>\n    </tr>\n    <tr>\n      <th>4</th>\n      <td>2018</td>\n      <td>1</td>\n      <td>30</td>\n      <td>8</td>\n      <td>2018-01-30T08:00:00.000Z</td>\n      <td>6f7512340e3274c683e3fb9557182fe63a05be1f</td>\n      <td>c26332985b1cc70e9eb5db3f4e93b4aeaf17364d</td>\n      <td>d5468e2372e25240ff90b4106df30d4afee7dbbc</td>\n      <td>8179128</td>\n      <td>1343922650</td>\n      <td>108500</td>\n      <td>12.744</td>\n      <td>4.880</td>\n    </tr>\n    <tr>\n      <th>...</th>\n      <td>...</td>\n      <td>...</td>\n      <td>...</td>\n      <td>...</td>\n      <td>...</td>\n      <td>...</td>\n      <td>...</td>\n      <td>...</td>\n      <td>...</td>\n      <td>...</td>\n      <td>...</td>\n      <td>...</td>\n      <td>...</td>\n    </tr>\n    <tr>\n      <th>36715650</th>\n      <td>2018</td>\n      <td>1</td>\n      <td>27</td>\n      <td>10</td>\n      <td>2018-01-27T10:00:00.000Z</td>\n      <td>4a9badf42a91904f59671f7b753bb81602833623</td>\n      <td>4fd959246fb2a5fc39eefc2b07944e6f99fd3b21</td>\n      <td>da8e1f84ab98c90129c546f4c2e9a545054102a7</td>\n      <td>688989358</td>\n      <td>4804443645</td>\n      <td>3863127062</td>\n      <td>16.423</td>\n      <td>5.425</td>\n    </tr>\n    <tr>\n      <th>36715651</th>\n      <td>2018</td>\n      <td>1</td>\n      <td>9</td>\n      <td>19</td>\n      <td>2018-01-09T19:00:00.000Z</td>\n      <td>4a9badf42a91904f59671f7b753bb81602833623</td>\n      <td>4fd959246fb2a5fc39eefc2b07944e6f99fd3b21</td>\n      <td>da8e1f84ab98c90129c546f4c2e9a545054102a7</td>\n      <td>688989358</td>\n      <td>4804443645</td>\n      <td>3863127062</td>\n      <td>17.716</td>\n      <td>3.701</td>\n    </tr>\n    <tr>\n      <th>36715652</th>\n      <td>2018</td>\n      <td>1</td>\n      <td>22</td>\n      <td>15</td>\n      <td>2018-01-22T15:00:00.000Z</td>\n      <td>4a9badf42a91904f59671f7b753bb81602833623</td>\n      <td>4fd959246fb2a5fc39eefc2b07944e6f99fd3b21</td>\n      <td>da8e1f84ab98c90129c546f4c2e9a545054102a7</td>\n      <td>688989358</td>\n      <td>4804443645</td>\n      <td>3863127062</td>\n      <td>13.400</td>\n      <td>3.784</td>\n    </tr>\n    <tr>\n      <th>36715653</th>\n      <td>2018</td>\n      <td>1</td>\n      <td>6</td>\n      <td>13</td>\n      <td>2018-01-06T13:00:00.000Z</td>\n      <td>4a9badf42a91904f59671f7b753bb81602833623</td>\n      <td>4fd959246fb2a5fc39eefc2b07944e6f99fd3b21</td>\n      <td>da8e1f84ab98c90129c546f4c2e9a545054102a7</td>\n      <td>688989358</td>\n      <td>4804443645</td>\n      <td>3863127062</td>\n      <td>14.369</td>\n      <td>3.210</td>\n    </tr>\n    <tr>\n      <th>36715654</th>\n      <td>2018</td>\n      <td>1</td>\n      <td>25</td>\n      <td>18</td>\n      <td>2018-01-25T18:00:00.000Z</td>\n      <td>4a9badf42a91904f59671f7b753bb81602833623</td>\n      <td>4fd959246fb2a5fc39eefc2b07944e6f99fd3b21</td>\n      <td>da8e1f84ab98c90129c546f4c2e9a545054102a7</td>\n      <td>688989358</td>\n      <td>4804443645</td>\n      <td>3863127062</td>\n      <td>15.331</td>\n      <td>5.166</td>\n    </tr>\n  </tbody>\n</table>\n<p>36715655 rows × 13 columns</p>\n</div>",
      "text/plain": "          year  month  day  hour             utc_timestamp  \\\n0         2018      1   21    11  2018-01-21T11:00:00.000Z   \n1         2018      1   16    19  2018-01-16T19:00:00.000Z   \n2         2018      1   19     9  2018-01-19T09:00:00.000Z   \n3         2018      1   12    20  2018-01-12T20:00:00.000Z   \n4         2018      1   30     8  2018-01-30T08:00:00.000Z   \n...        ...    ...  ...   ...                       ...   \n36715650  2018      1   27    10  2018-01-27T10:00:00.000Z   \n36715651  2018      1    9    19  2018-01-09T19:00:00.000Z   \n36715652  2018      1   22    15  2018-01-22T15:00:00.000Z   \n36715653  2018      1    6    13  2018-01-06T13:00:00.000Z   \n36715654  2018      1   25    18  2018-01-25T18:00:00.000Z   \n\n                                        segment_id  \\\n0         6f7512340e3274c683e3fb9557182fe63a05be1f   \n1         6f7512340e3274c683e3fb9557182fe63a05be1f   \n2         6f7512340e3274c683e3fb9557182fe63a05be1f   \n3         6f7512340e3274c683e3fb9557182fe63a05be1f   \n4         6f7512340e3274c683e3fb9557182fe63a05be1f   \n...                                            ...   \n36715650  4a9badf42a91904f59671f7b753bb81602833623   \n36715651  4a9badf42a91904f59671f7b753bb81602833623   \n36715652  4a9badf42a91904f59671f7b753bb81602833623   \n36715653  4a9badf42a91904f59671f7b753bb81602833623   \n36715654  4a9badf42a91904f59671f7b753bb81602833623   \n\n                                 start_junction_id  \\\n0         c26332985b1cc70e9eb5db3f4e93b4aeaf17364d   \n1         c26332985b1cc70e9eb5db3f4e93b4aeaf17364d   \n2         c26332985b1cc70e9eb5db3f4e93b4aeaf17364d   \n3         c26332985b1cc70e9eb5db3f4e93b4aeaf17364d   \n4         c26332985b1cc70e9eb5db3f4e93b4aeaf17364d   \n...                                            ...   \n36715650  4fd959246fb2a5fc39eefc2b07944e6f99fd3b21   \n36715651  4fd959246fb2a5fc39eefc2b07944e6f99fd3b21   \n36715652  4fd959246fb2a5fc39eefc2b07944e6f99fd3b21   \n36715653  4fd959246fb2a5fc39eefc2b07944e6f99fd3b21   \n36715654  4fd959246fb2a5fc39eefc2b07944e6f99fd3b21   \n\n                                   end_junction_id  osm_way_id  \\\n0         d5468e2372e25240ff90b4106df30d4afee7dbbc     8179128   \n1         d5468e2372e25240ff90b4106df30d4afee7dbbc     8179128   \n2         d5468e2372e25240ff90b4106df30d4afee7dbbc     8179128   \n3         d5468e2372e25240ff90b4106df30d4afee7dbbc     8179128   \n4         d5468e2372e25240ff90b4106df30d4afee7dbbc     8179128   \n...                                            ...         ...   \n36715650  da8e1f84ab98c90129c546f4c2e9a545054102a7   688989358   \n36715651  da8e1f84ab98c90129c546f4c2e9a545054102a7   688989358   \n36715652  da8e1f84ab98c90129c546f4c2e9a545054102a7   688989358   \n36715653  da8e1f84ab98c90129c546f4c2e9a545054102a7   688989358   \n36715654  da8e1f84ab98c90129c546f4c2e9a545054102a7   688989358   \n\n          osm_start_node_id  osm_end_node_id  speed_mph_mean  speed_mph_stddev  \n0                1343922650           108500          12.297             4.405  \n1                1343922650           108500          11.301             4.761  \n2                1343922650           108500          11.740             6.244  \n3                1343922650           108500          12.948             5.423  \n4                1343922650           108500          12.744             4.880  \n...                     ...              ...             ...               ...  \n36715650         4804443645       3863127062          16.423             5.425  \n36715651         4804443645       3863127062          17.716             3.701  \n36715652         4804443645       3863127062          13.400             3.784  \n36715653         4804443645       3863127062          14.369             3.210  \n36715654         4804443645       3863127062          15.331             5.166  \n\n[36715655 rows x 13 columns]"
     },
     "execution_count": 5,
     "metadata": {},
     "output_type": "execute_result"
    }
   ],
   "source": [
    "janSpeedsData"
   ]
  },
  {
   "cell_type": "code",
   "execution_count": 6,
   "metadata": {},
   "outputs": [
    {
     "data": {
      "text/html": "<div>\n<style scoped>\n    .dataframe tbody tr th:only-of-type {\n        vertical-align: middle;\n    }\n\n    .dataframe tbody tr th {\n        vertical-align: top;\n    }\n\n    .dataframe thead th {\n        text-align: right;\n    }\n</style>\n<table border=\"1\" class=\"dataframe\">\n  <thead>\n    <tr style=\"text-align: right;\">\n      <th></th>\n      <th>year</th>\n      <th>month</th>\n      <th>day</th>\n      <th>hour</th>\n      <th>utc_timestamp</th>\n      <th>segment_id</th>\n      <th>start_junction_id</th>\n      <th>end_junction_id</th>\n      <th>osm_way_id</th>\n      <th>osm_start_node_id</th>\n      <th>osm_end_node_id</th>\n      <th>speed_mph_mean</th>\n      <th>speed_mph_stddev</th>\n    </tr>\n  </thead>\n  <tbody>\n    <tr>\n      <th>10497959</th>\n      <td>2018</td>\n      <td>1</td>\n      <td>1</td>\n      <td>0</td>\n      <td>2018-01-01T00:00:00.000Z</td>\n      <td>42c4ef008665c76fcdccba7f8b727ad0da7efb9f</td>\n      <td>1881b5978d87990b7b21ebda10cd27931e93e6a8</td>\n      <td>6f2ee0178b30d3b78eeb22ddf88d3e7b1e8c8ab3</td>\n      <td>73</td>\n      <td>5849976474</td>\n      <td>196069</td>\n      <td>17.645</td>\n      <td>14.337</td>\n    </tr>\n    <tr>\n      <th>10497876</th>\n      <td>2018</td>\n      <td>1</td>\n      <td>1</td>\n      <td>1</td>\n      <td>2018-01-01T01:00:00.000Z</td>\n      <td>42c4ef008665c76fcdccba7f8b727ad0da7efb9f</td>\n      <td>1881b5978d87990b7b21ebda10cd27931e93e6a8</td>\n      <td>6f2ee0178b30d3b78eeb22ddf88d3e7b1e8c8ab3</td>\n      <td>73</td>\n      <td>5849976474</td>\n      <td>196069</td>\n      <td>9.413</td>\n      <td>8.057</td>\n    </tr>\n    <tr>\n      <th>10497869</th>\n      <td>2018</td>\n      <td>1</td>\n      <td>1</td>\n      <td>2</td>\n      <td>2018-01-01T02:00:00.000Z</td>\n      <td>42c4ef008665c76fcdccba7f8b727ad0da7efb9f</td>\n      <td>1881b5978d87990b7b21ebda10cd27931e93e6a8</td>\n      <td>6f2ee0178b30d3b78eeb22ddf88d3e7b1e8c8ab3</td>\n      <td>73</td>\n      <td>5849976474</td>\n      <td>196069</td>\n      <td>9.620</td>\n      <td>11.860</td>\n    </tr>\n    <tr>\n      <th>10497858</th>\n      <td>2018</td>\n      <td>1</td>\n      <td>1</td>\n      <td>3</td>\n      <td>2018-01-01T03:00:00.000Z</td>\n      <td>42c4ef008665c76fcdccba7f8b727ad0da7efb9f</td>\n      <td>1881b5978d87990b7b21ebda10cd27931e93e6a8</td>\n      <td>6f2ee0178b30d3b78eeb22ddf88d3e7b1e8c8ab3</td>\n      <td>73</td>\n      <td>5849976474</td>\n      <td>196069</td>\n      <td>10.554</td>\n      <td>11.355</td>\n    </tr>\n    <tr>\n      <th>10497908</th>\n      <td>2018</td>\n      <td>1</td>\n      <td>1</td>\n      <td>4</td>\n      <td>2018-01-01T04:00:00.000Z</td>\n      <td>42c4ef008665c76fcdccba7f8b727ad0da7efb9f</td>\n      <td>1881b5978d87990b7b21ebda10cd27931e93e6a8</td>\n      <td>6f2ee0178b30d3b78eeb22ddf88d3e7b1e8c8ab3</td>\n      <td>73</td>\n      <td>5849976474</td>\n      <td>196069</td>\n      <td>9.075</td>\n      <td>12.587</td>\n    </tr>\n    <tr>\n      <th>...</th>\n      <td>...</td>\n      <td>...</td>\n      <td>...</td>\n      <td>...</td>\n      <td>...</td>\n      <td>...</td>\n      <td>...</td>\n      <td>...</td>\n      <td>...</td>\n      <td>...</td>\n      <td>...</td>\n      <td>...</td>\n      <td>...</td>\n    </tr>\n    <tr>\n      <th>35325367</th>\n      <td>2018</td>\n      <td>1</td>\n      <td>31</td>\n      <td>19</td>\n      <td>2018-01-31T19:00:00.000Z</td>\n      <td>0b287cf2790c8cce47ca6cf3c7aa26b80efea4fc</td>\n      <td>2c0e9e067174f8d11e43a59229f4f4dc4f21642f</td>\n      <td>28c38e4aed242e525cb21709d8bf298590c2aca8</td>\n      <td>700437744</td>\n      <td>3195845014</td>\n      <td>3195845011</td>\n      <td>16.920</td>\n      <td>7.662</td>\n    </tr>\n    <tr>\n      <th>35325489</th>\n      <td>2018</td>\n      <td>1</td>\n      <td>31</td>\n      <td>20</td>\n      <td>2018-01-31T20:00:00.000Z</td>\n      <td>0b287cf2790c8cce47ca6cf3c7aa26b80efea4fc</td>\n      <td>2c0e9e067174f8d11e43a59229f4f4dc4f21642f</td>\n      <td>28c38e4aed242e525cb21709d8bf298590c2aca8</td>\n      <td>700437744</td>\n      <td>3195845014</td>\n      <td>3195845011</td>\n      <td>20.410</td>\n      <td>8.645</td>\n    </tr>\n    <tr>\n      <th>35325577</th>\n      <td>2018</td>\n      <td>1</td>\n      <td>31</td>\n      <td>21</td>\n      <td>2018-01-31T21:00:00.000Z</td>\n      <td>0b287cf2790c8cce47ca6cf3c7aa26b80efea4fc</td>\n      <td>2c0e9e067174f8d11e43a59229f4f4dc4f21642f</td>\n      <td>28c38e4aed242e525cb21709d8bf298590c2aca8</td>\n      <td>700437744</td>\n      <td>3195845014</td>\n      <td>3195845011</td>\n      <td>20.910</td>\n      <td>7.185</td>\n    </tr>\n    <tr>\n      <th>35325625</th>\n      <td>2018</td>\n      <td>1</td>\n      <td>31</td>\n      <td>22</td>\n      <td>2018-01-31T22:00:00.000Z</td>\n      <td>0b287cf2790c8cce47ca6cf3c7aa26b80efea4fc</td>\n      <td>2c0e9e067174f8d11e43a59229f4f4dc4f21642f</td>\n      <td>28c38e4aed242e525cb21709d8bf298590c2aca8</td>\n      <td>700437744</td>\n      <td>3195845014</td>\n      <td>3195845011</td>\n      <td>17.897</td>\n      <td>7.650</td>\n    </tr>\n    <tr>\n      <th>35325436</th>\n      <td>2018</td>\n      <td>1</td>\n      <td>31</td>\n      <td>23</td>\n      <td>2018-01-31T23:00:00.000Z</td>\n      <td>0b287cf2790c8cce47ca6cf3c7aa26b80efea4fc</td>\n      <td>2c0e9e067174f8d11e43a59229f4f4dc4f21642f</td>\n      <td>28c38e4aed242e525cb21709d8bf298590c2aca8</td>\n      <td>700437744</td>\n      <td>3195845014</td>\n      <td>3195845011</td>\n      <td>19.867</td>\n      <td>7.223</td>\n    </tr>\n  </tbody>\n</table>\n<p>36715655 rows × 13 columns</p>\n</div>",
      "text/plain": "          year  month  day  hour             utc_timestamp  \\\n10497959  2018      1    1     0  2018-01-01T00:00:00.000Z   \n10497876  2018      1    1     1  2018-01-01T01:00:00.000Z   \n10497869  2018      1    1     2  2018-01-01T02:00:00.000Z   \n10497858  2018      1    1     3  2018-01-01T03:00:00.000Z   \n10497908  2018      1    1     4  2018-01-01T04:00:00.000Z   \n...        ...    ...  ...   ...                       ...   \n35325367  2018      1   31    19  2018-01-31T19:00:00.000Z   \n35325489  2018      1   31    20  2018-01-31T20:00:00.000Z   \n35325577  2018      1   31    21  2018-01-31T21:00:00.000Z   \n35325625  2018      1   31    22  2018-01-31T22:00:00.000Z   \n35325436  2018      1   31    23  2018-01-31T23:00:00.000Z   \n\n                                        segment_id  \\\n10497959  42c4ef008665c76fcdccba7f8b727ad0da7efb9f   \n10497876  42c4ef008665c76fcdccba7f8b727ad0da7efb9f   \n10497869  42c4ef008665c76fcdccba7f8b727ad0da7efb9f   \n10497858  42c4ef008665c76fcdccba7f8b727ad0da7efb9f   \n10497908  42c4ef008665c76fcdccba7f8b727ad0da7efb9f   \n...                                            ...   \n35325367  0b287cf2790c8cce47ca6cf3c7aa26b80efea4fc   \n35325489  0b287cf2790c8cce47ca6cf3c7aa26b80efea4fc   \n35325577  0b287cf2790c8cce47ca6cf3c7aa26b80efea4fc   \n35325625  0b287cf2790c8cce47ca6cf3c7aa26b80efea4fc   \n35325436  0b287cf2790c8cce47ca6cf3c7aa26b80efea4fc   \n\n                                 start_junction_id  \\\n10497959  1881b5978d87990b7b21ebda10cd27931e93e6a8   \n10497876  1881b5978d87990b7b21ebda10cd27931e93e6a8   \n10497869  1881b5978d87990b7b21ebda10cd27931e93e6a8   \n10497858  1881b5978d87990b7b21ebda10cd27931e93e6a8   \n10497908  1881b5978d87990b7b21ebda10cd27931e93e6a8   \n...                                            ...   \n35325367  2c0e9e067174f8d11e43a59229f4f4dc4f21642f   \n35325489  2c0e9e067174f8d11e43a59229f4f4dc4f21642f   \n35325577  2c0e9e067174f8d11e43a59229f4f4dc4f21642f   \n35325625  2c0e9e067174f8d11e43a59229f4f4dc4f21642f   \n35325436  2c0e9e067174f8d11e43a59229f4f4dc4f21642f   \n\n                                   end_junction_id  osm_way_id  \\\n10497959  6f2ee0178b30d3b78eeb22ddf88d3e7b1e8c8ab3          73   \n10497876  6f2ee0178b30d3b78eeb22ddf88d3e7b1e8c8ab3          73   \n10497869  6f2ee0178b30d3b78eeb22ddf88d3e7b1e8c8ab3          73   \n10497858  6f2ee0178b30d3b78eeb22ddf88d3e7b1e8c8ab3          73   \n10497908  6f2ee0178b30d3b78eeb22ddf88d3e7b1e8c8ab3          73   \n...                                            ...         ...   \n35325367  28c38e4aed242e525cb21709d8bf298590c2aca8   700437744   \n35325489  28c38e4aed242e525cb21709d8bf298590c2aca8   700437744   \n35325577  28c38e4aed242e525cb21709d8bf298590c2aca8   700437744   \n35325625  28c38e4aed242e525cb21709d8bf298590c2aca8   700437744   \n35325436  28c38e4aed242e525cb21709d8bf298590c2aca8   700437744   \n\n          osm_start_node_id  osm_end_node_id  speed_mph_mean  speed_mph_stddev  \n10497959         5849976474           196069          17.645            14.337  \n10497876         5849976474           196069           9.413             8.057  \n10497869         5849976474           196069           9.620            11.860  \n10497858         5849976474           196069          10.554            11.355  \n10497908         5849976474           196069           9.075            12.587  \n...                     ...              ...             ...               ...  \n35325367         3195845014       3195845011          16.920             7.662  \n35325489         3195845014       3195845011          20.410             8.645  \n35325577         3195845014       3195845011          20.910             7.185  \n35325625         3195845014       3195845011          17.897             7.650  \n35325436         3195845014       3195845011          19.867             7.223  \n\n[36715655 rows x 13 columns]"
     },
     "execution_count": 6,
     "metadata": {},
     "output_type": "execute_result"
    }
   ],
   "source": [
    "janSpeedsData = janSpeedsData.sort_values(by=['osm_way_id', 'month', 'day', 'hour'])\n",
    "janSpeedsData"
   ]
  },
  {
   "cell_type": "code",
   "execution_count": 16,
   "metadata": {},
   "outputs": [
    {
     "data": {
      "text/html": "<div>\n<style scoped>\n    .dataframe tbody tr th:only-of-type {\n        vertical-align: middle;\n    }\n\n    .dataframe tbody tr th {\n        vertical-align: top;\n    }\n\n    .dataframe thead th {\n        text-align: right;\n    }\n</style>\n<table border=\"1\" class=\"dataframe\">\n  <thead>\n    <tr style=\"text-align: right;\">\n      <th></th>\n      <th>speed_mph_mean</th>\n    </tr>\n  </thead>\n  <tbody>\n    <tr>\n      <th>10497959</th>\n      <td>17.645</td>\n    </tr>\n    <tr>\n      <th>10497876</th>\n      <td>9.413</td>\n    </tr>\n    <tr>\n      <th>10497869</th>\n      <td>9.620</td>\n    </tr>\n    <tr>\n      <th>10497858</th>\n      <td>10.554</td>\n    </tr>\n    <tr>\n      <th>10497908</th>\n      <td>9.075</td>\n    </tr>\n    <tr>\n      <th>...</th>\n      <td>...</td>\n    </tr>\n    <tr>\n      <th>35325367</th>\n      <td>16.920</td>\n    </tr>\n    <tr>\n      <th>35325489</th>\n      <td>20.410</td>\n    </tr>\n    <tr>\n      <th>35325577</th>\n      <td>20.910</td>\n    </tr>\n    <tr>\n      <th>35325625</th>\n      <td>17.897</td>\n    </tr>\n    <tr>\n      <th>35325436</th>\n      <td>19.867</td>\n    </tr>\n  </tbody>\n</table>\n<p>36715655 rows × 1 columns</p>\n</div>",
      "text/plain": "          speed_mph_mean\n10497959          17.645\n10497876           9.413\n10497869           9.620\n10497858          10.554\n10497908           9.075\n...                  ...\n35325367          16.920\n35325489          20.410\n35325577          20.910\n35325625          17.897\n35325436          19.867\n\n[36715655 rows x 1 columns]"
     },
     "execution_count": 16,
     "metadata": {},
     "output_type": "execute_result"
    }
   ],
   "source": [
    "data = pd.DataFrame()\n",
    "data['speed_mph_mean'] = janSpeedsData['speed_mph_mean']\n",
    "data"
   ]
  },
  {
   "cell_type": "code",
   "execution_count": 17,
   "metadata": {},
   "outputs": [
    {
     "data": {
      "text/html": "<div>\n<style scoped>\n    .dataframe tbody tr th:only-of-type {\n        vertical-align: middle;\n    }\n\n    .dataframe tbody tr th {\n        vertical-align: top;\n    }\n\n    .dataframe thead th {\n        text-align: right;\n    }\n</style>\n<table border=\"1\" class=\"dataframe\">\n  <thead>\n    <tr style=\"text-align: right;\">\n      <th></th>\n      <th>speed_mph_mean</th>\n      <th>speed (t+1)</th>\n    </tr>\n  </thead>\n  <tbody>\n    <tr>\n      <th>10497959</th>\n      <td>17.645</td>\n      <td>9.413</td>\n    </tr>\n    <tr>\n      <th>10497876</th>\n      <td>9.413</td>\n      <td>9.620</td>\n    </tr>\n    <tr>\n      <th>10497869</th>\n      <td>9.620</td>\n      <td>10.554</td>\n    </tr>\n    <tr>\n      <th>10497858</th>\n      <td>10.554</td>\n      <td>9.075</td>\n    </tr>\n    <tr>\n      <th>10497908</th>\n      <td>9.075</td>\n      <td>11.369</td>\n    </tr>\n    <tr>\n      <th>...</th>\n      <td>...</td>\n      <td>...</td>\n    </tr>\n    <tr>\n      <th>35325367</th>\n      <td>16.920</td>\n      <td>20.410</td>\n    </tr>\n    <tr>\n      <th>35325489</th>\n      <td>20.410</td>\n      <td>20.910</td>\n    </tr>\n    <tr>\n      <th>35325577</th>\n      <td>20.910</td>\n      <td>17.897</td>\n    </tr>\n    <tr>\n      <th>35325625</th>\n      <td>17.897</td>\n      <td>19.867</td>\n    </tr>\n    <tr>\n      <th>35325436</th>\n      <td>19.867</td>\n      <td>NaN</td>\n    </tr>\n  </tbody>\n</table>\n<p>36715655 rows × 2 columns</p>\n</div>",
      "text/plain": "          speed_mph_mean  speed (t+1)\n10497959          17.645        9.413\n10497876           9.413        9.620\n10497869           9.620       10.554\n10497858          10.554        9.075\n10497908           9.075       11.369\n...                  ...          ...\n35325367          16.920       20.410\n35325489          20.410       20.910\n35325577          20.910       17.897\n35325625          17.897       19.867\n35325436          19.867          NaN\n\n[36715655 rows x 2 columns]"
     },
     "execution_count": 17,
     "metadata": {},
     "output_type": "execute_result"
    }
   ],
   "source": [
    "data['speed (t+1)'] = data['speed_mph_mean'].shift(-1)\n",
    "data"
   ]
  },
  {
   "cell_type": "code",
   "execution_count": 18,
   "metadata": {},
   "outputs": [
    {
     "data": {
      "text/html": "<div>\n<style scoped>\n    .dataframe tbody tr th:only-of-type {\n        vertical-align: middle;\n    }\n\n    .dataframe tbody tr th {\n        vertical-align: top;\n    }\n\n    .dataframe thead th {\n        text-align: right;\n    }\n</style>\n<table border=\"1\" class=\"dataframe\">\n  <thead>\n    <tr style=\"text-align: right;\">\n      <th></th>\n      <th>speed_mph_mean</th>\n      <th>speed (t+1)</th>\n    </tr>\n  </thead>\n  <tbody>\n    <tr>\n      <th>10497959</th>\n      <td>17.645</td>\n      <td>9.413</td>\n    </tr>\n    <tr>\n      <th>10497876</th>\n      <td>9.413</td>\n      <td>9.620</td>\n    </tr>\n    <tr>\n      <th>10497869</th>\n      <td>9.620</td>\n      <td>10.554</td>\n    </tr>\n    <tr>\n      <th>10497858</th>\n      <td>10.554</td>\n      <td>9.075</td>\n    </tr>\n    <tr>\n      <th>10497908</th>\n      <td>9.075</td>\n      <td>11.369</td>\n    </tr>\n    <tr>\n      <th>...</th>\n      <td>...</td>\n      <td>...</td>\n    </tr>\n    <tr>\n      <th>35325398</th>\n      <td>21.180</td>\n      <td>16.920</td>\n    </tr>\n    <tr>\n      <th>35325367</th>\n      <td>16.920</td>\n      <td>20.410</td>\n    </tr>\n    <tr>\n      <th>35325489</th>\n      <td>20.410</td>\n      <td>20.910</td>\n    </tr>\n    <tr>\n      <th>35325577</th>\n      <td>20.910</td>\n      <td>17.897</td>\n    </tr>\n    <tr>\n      <th>35325625</th>\n      <td>17.897</td>\n      <td>19.867</td>\n    </tr>\n  </tbody>\n</table>\n<p>36715654 rows × 2 columns</p>\n</div>",
      "text/plain": "          speed_mph_mean  speed (t+1)\n10497959          17.645        9.413\n10497876           9.413        9.620\n10497869           9.620       10.554\n10497858          10.554        9.075\n10497908           9.075       11.369\n...                  ...          ...\n35325398          21.180       16.920\n35325367          16.920       20.410\n35325489          20.410       20.910\n35325577          20.910       17.897\n35325625          17.897       19.867\n\n[36715654 rows x 2 columns]"
     },
     "execution_count": 18,
     "metadata": {},
     "output_type": "execute_result"
    }
   ],
   "source": [
    "data.dropna()"
   ]
  },
  {
   "cell_type": "code",
   "execution_count": null,
   "metadata": {},
   "outputs": [],
   "source": []
  }
 ]
}